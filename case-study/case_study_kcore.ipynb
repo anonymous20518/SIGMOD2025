{
 "cells": [
  {
   "cell_type": "code",
   "execution_count": 1,
   "metadata": {
    "id": "auehy4eJYD2X",
    "scrolled": true
   },
   "outputs": [],
   "source": [
    "import pandas as pd\n",
    "import numpy as np\n",
    "import itertools"
   ]
  },
  {
   "cell_type": "code",
   "execution_count": 2,
   "metadata": {},
   "outputs": [],
   "source": [
    "# Download the files from the links below, ,unzip them, and set the file path prefix in the cell below.\n",
    "# https://lfs.aminer.cn/lab-datasets/aminerdataset/AMiner-Coauthor.zip\n",
    "# https://lfs.aminer.cn/lab-datasets/aminerdataset/AMiner-Author.zip\n",
    "# https://lfs.aminer.cn/lab-datasets/aminerdataset/AMiner-Paper.rar"
   ]
  },
  {
   "cell_type": "code",
   "execution_count": 3,
   "metadata": {
    "id": "QRa__JP-03VK"
   },
   "outputs": [],
   "source": [
    "file_path_prefix = \"./\""
   ]
  },
  {
   "cell_type": "markdown",
   "metadata": {
    "id": "HbP_RhGi1FVH"
   },
   "source": [
    "# Processing Authors"
   ]
  },
  {
   "cell_type": "code",
   "execution_count": 4,
   "metadata": {
    "id": "I7q6YhVRYbu0"
   },
   "outputs": [],
   "source": [
    "with open(file_path_prefix + \"AMiner-Author.txt\") as file:\n",
    "    author_lines = [line.rstrip() for line in file]"
   ]
  },
  {
   "cell_type": "code",
   "execution_count": 5,
   "metadata": {
    "id": "qv9kQr_ihRyv"
   },
   "outputs": [],
   "source": [
    "author_data = dict()\n",
    "i = 0\n",
    "while i < len(author_lines):\n",
    "    while author_lines[i][:6] != \"#index\" and i < len(author_lines):\n",
    "        i = i + 1\n",
    "    author_id = author_lines[i][7:]\n",
    "    name = author_lines[i+1][3:]\n",
    "    author_data[author_id] = name\n",
    "    i = i + 10"
   ]
  },
  {
   "cell_type": "code",
   "execution_count": 6,
   "metadata": {
    "colab": {
     "base_uri": "https://localhost:8080/"
    },
    "id": "JEZZ6Vgch6_i",
    "outputId": "8a7174a2-953e-4ff3-d9e0-55856b7cf080"
   },
   "outputs": [
    {
     "name": "stdout",
     "output_type": "stream",
     "text": [
      "#authors: 1712433\n"
     ]
    }
   ],
   "source": [
    "print(f\"#authors: {len(author_data)}\")"
   ]
  },
  {
   "cell_type": "markdown",
   "metadata": {
    "id": "7rQU8smyozo5"
   },
   "source": [
    "# Processing Coauthorship Network"
   ]
  },
  {
   "cell_type": "code",
   "execution_count": 7,
   "metadata": {
    "id": "-NOBVb_po5ew"
   },
   "outputs": [],
   "source": [
    "with open(file_path_prefix + \"AMiner-Coauthor.txt\") as file:\n",
    "    coauthor_lines = [line.rstrip() for line in file]"
   ]
  },
  {
   "cell_type": "code",
   "execution_count": 8,
   "metadata": {
    "id": "lP4j4TKT2Ik7"
   },
   "outputs": [],
   "source": [
    "min_papers_together = 5"
   ]
  },
  {
   "cell_type": "code",
   "execution_count": 9,
   "metadata": {
    "colab": {
     "base_uri": "https://localhost:8080/"
    },
    "id": "Wm53FQi-2Bqv",
    "outputId": "c3921262-d631-4b5a-bbfd-b486989f515e"
   },
   "outputs": [
    {
     "name": "stdout",
     "output_type": "stream",
     "text": [
      "#edges: 99794\n"
     ]
    }
   ],
   "source": [
    "tuples = [line.split() for line in coauthor_lines]\n",
    "edges = [(x[0][1:], x[1]) for x in tuples if int(x[2]) > min_papers_together]\n",
    "print(f\"#edges: {len(edges)}\")"
   ]
  },
  {
   "cell_type": "code",
   "execution_count": 10,
   "metadata": {
    "colab": {
     "base_uri": "https://localhost:8080/"
    },
    "id": "t4YzDla97jBH",
    "outputId": "cb337472-4af5-4683-b61b-e8419fa79623"
   },
   "outputs": [
    {
     "name": "stdout",
     "output_type": "stream",
     "text": [
      "#vertices: 82569\n"
     ]
    }
   ],
   "source": [
    "unique_vertices = [(edge[0], author_data[edge[0]]) for edge in edges]\n",
    "unique_vertices.extend([(edge[1], author_data[edge[1]]) for edge in edges])\n",
    "unique_vertices = set(unique_vertices)\n",
    "print(f\"#vertices: {len(unique_vertices)}\")"
   ]
  },
  {
   "cell_type": "markdown",
   "metadata": {
    "id": "lBZNDBuvq8Kq"
   },
   "source": [
    "# Processing papers\n"
   ]
  },
  {
   "cell_type": "code",
   "execution_count": 11,
   "metadata": {
    "id": "Lvk1dTUwq_XN"
   },
   "outputs": [],
   "source": [
    "with open(file_path_prefix + \"AMiner-Paper.txt\") as file:\n",
    "    paper_lines = [line.rstrip() for line in file if line[:2] == \"#c\" or line[:2] == \"#@\" or line[:6] == \"#index\"]"
   ]
  },
  {
   "cell_type": "code",
   "execution_count": 12,
   "metadata": {
    "id": "oDRkte9GsVuI"
   },
   "outputs": [],
   "source": [
    "paper_data = []\n",
    "for i in np.arange(0, len(paper_lines), step = 3):\n",
    "    paper_id = paper_lines[i][7:]\n",
    "    names = paper_lines[i+1][3:].split(';')\n",
    "    venue = paper_lines[i+2][3:]\n",
    "    paper_data.append((paper_id, names, venue))"
   ]
  },
  {
   "cell_type": "markdown",
   "metadata": {
    "id": "I6aH_lKG36NR"
   },
   "source": [
    "# Finding Vertex Labels"
   ]
  },
  {
   "cell_type": "code",
   "execution_count": 13,
   "metadata": {
    "id": "T_3oz3lQtEeG"
   },
   "outputs": [],
   "source": [
    "venues = [\"VLDB\", \"SIGMOD\", \"ICML\", \"NIPS\"]\n",
    "venue_papers = {}\n",
    "for v in venues[:-1]:\n",
    "    venue_papers[v] = [paper for paper in paper_data if v in paper[2]]\n",
    "venue_papers[\"NIPS\"] = [paper for paper in paper_data if \"NIPS\" in paper[2] or \"NeurIPS\" in paper[2]]"
   ]
  },
  {
   "cell_type": "code",
   "execution_count": 14,
   "metadata": {
    "id": "oAbprstc90pq"
   },
   "outputs": [],
   "source": [
    "def count_paper(author, paper_list):\n",
    "    return len([paper for paper in paper_list if author in paper[1]])"
   ]
  },
  {
   "cell_type": "code",
   "execution_count": 15,
   "metadata": {
    "id": "HS3bc5qJ_rbC"
   },
   "outputs": [],
   "source": [
    "index_list = [int(vertex[0]) for vertex in unique_vertices]\n",
    "author_list = [vertex[1] for vertex in unique_vertices]\n",
    "\n",
    "labelled_vertices = pd.DataFrame(author_list, index = index_list, columns = ['name'])\n",
    "for v in venues:\n",
    "    labelled_vertices[v] = [count_paper(author, venue_papers[v]) for author in author_list]"
   ]
  },
  {
   "cell_type": "code",
   "execution_count": 16,
   "metadata": {
    "colab": {
     "base_uri": "https://localhost:8080/"
    },
    "id": "vBchSm0DLg2R",
    "outputId": "bbf1ed60-9866-4e7f-bee0-14b27ad1ceab"
   },
   "outputs": [
    {
     "name": "stdout",
     "output_type": "stream",
     "text": [
      "Number of authors published at least one paper: 5856\n"
     ]
    }
   ],
   "source": [
    "published_authors = labelled_vertices[labelled_vertices.sum(axis=1) > 0]\n",
    "print(f\"Number of authors published at least one paper: {len(published_authors)}\")"
   ]
  },
  {
   "cell_type": "markdown",
   "metadata": {
    "id": "Vozmg1so4avb"
   },
   "source": [
    "# Dominance Models"
   ]
  },
  {
   "cell_type": "code",
   "execution_count": 17,
   "metadata": {},
   "outputs": [],
   "source": [
    "def remove_common_elements(listA, listB):\n",
    "    common_elements = {x for x in listA if x in listB}\n",
    "    return ([x for x in listA if x not in common_elements], [x for x in listB if x not in common_elements])"
   ]
  },
  {
   "cell_type": "code",
   "execution_count": 18,
   "metadata": {},
   "outputs": [],
   "source": [
    "def hash_function(values):\n",
    "    return values[0] | (values[1] << 7) | (values[2] << 14) | (values[3] << 21)"
   ]
  },
  {
   "cell_type": "code",
   "execution_count": 19,
   "metadata": {},
   "outputs": [],
   "source": [
    "def dehash(hashed_list):\n",
    "    return [hashed_list & ((1<<8)-1), (hashed_list>>7) & ((1<<8)-1), (hashed_list>>14) & ((1<<8)-1), (hashed_list>>21) & ((1<<8)-1) ]"
   ]
  },
  {
   "cell_type": "code",
   "execution_count": 20,
   "metadata": {},
   "outputs": [],
   "source": [
    "def count_values(df):\n",
    "    dic = {}\n",
    "    for index, row in df.iterrows():\n",
    "        hash_value = hash_function(row)\n",
    "        if hash_value in dic:\n",
    "            dic[hash_value] += 1\n",
    "        else:\n",
    "            dic[hash_value] = 1\n",
    "    return dic"
   ]
  },
  {
   "cell_type": "code",
   "execution_count": 21,
   "metadata": {},
   "outputs": [],
   "source": [
    "def bag_difference(listA, listB, df):\n",
    "    groupA = df.loc[listA]\n",
    "    groupB = df.loc[listB]\n",
    "    \n",
    "    dicA = count_values(groupA)\n",
    "    dicB = count_values(groupB)\n",
    "    \n",
    "    for key in dicA.keys():\n",
    "        if key in dicB.keys():\n",
    "            dicA[key] = min(0, dicA[key] - dicB[key])\n",
    "    \n",
    "    result = []\n",
    "    for index,row in groupA.iterrows():\n",
    "        hash_value = hash_function(np.array(row))\n",
    "        if hash_value in dicA and dicA[hash_value] > 0:\n",
    "            result.append(index)\n",
    "            dicA[hash_value] -= 1\n",
    "    return result"
   ]
  },
  {
   "cell_type": "code",
   "execution_count": 22,
   "metadata": {
    "id": "pDFlfIoK77BS"
   },
   "outputs": [],
   "source": [
    "def traditional_dominates(dominated_by, is_dominated, preferMin=False):\n",
    "    num_dimensions = len(dominated_by)\n",
    "    equal_count   = np.equal(dominated_by, is_dominated).sum()\n",
    "    greater_count = np.greater(dominated_by, is_dominated).sum()\n",
    "\n",
    "    if equal_count == num_dimensions:\n",
    "        return False\n",
    "\n",
    "    elif (not preferMin) and (equal_count + greater_count == num_dimensions):\n",
    "        return True\n",
    "\n",
    "    elif preferMin and greater_count == 0:\n",
    "        return True\n",
    "\n",
    "    return False"
   ]
  },
  {
   "cell_type": "code",
   "execution_count": 23,
   "metadata": {
    "id": "gNVQordlDl-6"
   },
   "outputs": [],
   "source": [
    "# MIN model\n",
    "def dominates_min(dominating_group, dominated_group, df):\n",
    "  dominating_score = np.array(df.loc[dominating_group].min())\n",
    "  dominated_score = np.array(df.loc[dominated_group].min())\n",
    "  return traditional_dominates(dominating_score, dominated_score)"
   ]
  },
  {
   "cell_type": "code",
   "execution_count": 24,
   "metadata": {
    "id": "5RttDeF3bGXN"
   },
   "outputs": [],
   "source": [
    "#AVG model\n",
    "def dominates_sum(dominating_group, dominated_group, df):\n",
    "  dominating_score = np.array(df.loc[dominating_group].mean())\n",
    "  dominated_score = np.array(df.loc[dominated_group].mean())\n",
    "  return traditional_dominates(dominating_score, dominated_score)"
   ]
  },
  {
   "cell_type": "code",
   "execution_count": 25,
   "metadata": {
    "id": "BG7q5-_QbWjt"
   },
   "outputs": [],
   "source": [
    "def group_vs_vertex_general(dominating_group, vertex, df):\n",
    "  for better_vertex in dominating_group:\n",
    "    if( traditional_dominates(np.array(df.loc[better_vertex]),\\\n",
    "                              np.array(df.loc[vertex]))):\n",
    "      return True\n",
    "  return False\n",
    "\n",
    "#GENERAL model\n",
    "def dominates_general(dominating_group_new, dominated_group_new, df):\n",
    "    dominated_group = bag_difference(dominated_group_new, dominating_group_new, df)\n",
    "    dominating_group = bag_difference(dominating_group_new, dominated_group_new, df)\n",
    "    if len(dominated_group) == 0 :\n",
    "        if len(dominating_group) == 0 :\n",
    "            return False\n",
    "        else :\n",
    "            return True\n",
    "\n",
    "    for vertex in dominated_group:\n",
    "        if not group_vs_vertex_general( dominating_group, vertex, df):\n",
    "            return False\n",
    "    return True"
   ]
  },
  {
   "cell_type": "code",
   "execution_count": 26,
   "metadata": {},
   "outputs": [],
   "source": [
    "# geeksforgeeks.org/maximum-bipartite-matching\n",
    "class GFG:\n",
    "    def __init__(self, graph):\n",
    "        self.graph = graph\n",
    "        self.people = len(graph)\n",
    "        self.jobs = len(graph[0])\n",
    "    \n",
    "    def bpm(self, u, matchR, seen):\n",
    "        for v in range(self.jobs):\n",
    "            if self.graph[u][v] and not seen[v]:\n",
    "                seen[v] = True\n",
    "                \n",
    "                if matchR[v] == -1 or self.bpm(matchR[v], matchR, seen):\n",
    "                    matchR[v] = u\n",
    "                    return True\n",
    "        return False\n",
    "    \n",
    "    def maxBPM(self):\n",
    "        matchR = [-1] * self.jobs\n",
    "        result = 0\n",
    "        for i in range(self.people):\n",
    "            seen = [False] * self.jobs\n",
    "            \n",
    "            if self.bpm(i,matchR, seen):\n",
    "                result += 1\n",
    "        return result"
   ]
  },
  {
   "cell_type": "code",
   "execution_count": 27,
   "metadata": {
    "id": "vLFg6MB9eplN"
   },
   "outputs": [],
   "source": [
    "#PERMUTE model\n",
    "def dominates_permute(dominating_group_new, dominated_group_new, df):\n",
    "    dominated_group = bag_difference(dominated_group_new, dominating_group_new, df)\n",
    "    dominating_group = bag_difference(dominating_group_new, dominated_group_new, df)\n",
    "    \n",
    "    if len(dominating_group) == 0:\n",
    "        return False\n",
    "\n",
    "    dominating_score_min = np.array(df.loc[dominating_group].min())\n",
    "    dominated_score_max = np.array(df.loc[dominated_group].max())\n",
    "    if (traditional_dominates(dominating_score_min, dominated_score_max)):\n",
    "        return True\n",
    "  \n",
    "    adjacency_matrix = [[traditional_dominates(np.array(df.loc[u]), np.array(df.loc[v])) for v in dominated_group] for u in dominating_group]\n",
    "    max_bipartite_matching_size = GFG(adjacency_matrix).maxBPM()\n",
    "    if max_bipartite_matching_size == len(dominated_group):\n",
    "        return True\n",
    "    else:\n",
    "        return False"
   ]
  },
  {
   "cell_type": "markdown",
   "metadata": {
    "id": "p5OTPVYTbomZ"
   },
   "source": [
    "# Graph Preprocessing"
   ]
  },
  {
   "cell_type": "code",
   "execution_count": 28,
   "metadata": {
    "id": "_LxWQatibqmr"
   },
   "outputs": [],
   "source": [
    "def find_unvisited_neighbours(v, edges, visited):\n",
    "  neighbours = [int(e[0]) for e in edges if int(e[1]) == v and int(e[0]) not in visited]\n",
    "  neighbours.extend([int(e[1]) for e in edges if int(e[0]) == v and int(e[1]) not in visited])\n",
    "  return neighbours\n",
    "\n",
    "def label_vertices_recursive(label, label_set, vertex, edges, visited):\n",
    "  if vertex not in visited:\n",
    "    label_set[vertex] = label\n",
    "    visited.add(vertex)\n",
    "    neighbours = find_unvisited_neighbours(vertex, edges, visited)\n",
    "    for n in neighbours:\n",
    "      label_set, visited = label_vertices_recursive(label, label_set, n, edges, visited)\n",
    "  return (label_set, visited)\n",
    "\n",
    "def get_component_ids(vertices, edges):\n",
    "  component_ids = dict()\n",
    "  visited_vertices = set()\n",
    "\n",
    "  for v in vertices:\n",
    "    if v not in visited_vertices:\n",
    "      # visit everything reachable, label them v, and add them to visited\n",
    "      component_ids, visited_vertices = label_vertices_recursive(v, component_ids, v, edges, visited_vertices)\n",
    "  return component_ids"
   ]
  },
  {
   "cell_type": "code",
   "execution_count": 29,
   "metadata": {
    "id": "KNBR6oH9fqpb"
   },
   "outputs": [],
   "source": [
    "def get_connected_component(fixed_vertex, vertices, component_ids):\n",
    "  return [v for v in vertices if component_ids[v]==component_ids[fixed_vertex]]"
   ]
  },
  {
   "cell_type": "markdown",
   "metadata": {
    "id": "5hLtNuBE7USv"
   },
   "source": [
    "# k-Plex Community Models"
   ]
  },
  {
   "cell_type": "code",
   "execution_count": 30,
   "metadata": {
    "id": "KPrSSbyC7aGw"
   },
   "outputs": [],
   "source": [
    "def sort_by_l1(vertices, preferMax = True):\n",
    "    vertices['sum'] = vertices.sum(axis = 1)\n",
    "    vertices.sort_values(by='sum', ascending = not preferMax, inplace = True)\n",
    "    vertices.drop(columns=['sum'], inplace = True)\n",
    "    return vertices"
   ]
  },
  {
   "cell_type": "code",
   "execution_count": 31,
   "metadata": {
    "id": "Q7kUhxTt_eaZ"
   },
   "outputs": [],
   "source": [
    "def traditional_skyline(vertices):\n",
    "    skyline = []\n",
    "    vertices_by_l1 = sort_by_l1(vertices)\n",
    "\n",
    "    for vertex_to_check in np.arange(0, len(vertices_by_l1)):\n",
    "        dominated = False\n",
    "        for vertex_that_might_dominate_it in skyline:\n",
    "            if traditional_dominates(vertices_by_l1.iloc[vertex_that_might_dominate_it], vertices_by_l1.iloc[vertex_to_check]):\n",
    "                dominated = True\n",
    "                break\n",
    "        if dominated == False:\n",
    "            skyline.append(vertex_to_check)\n",
    "    return vertices_by_l1.iloc[skyline]"
   ]
  },
  {
   "cell_type": "code",
   "execution_count": 32,
   "metadata": {
    "id": "K_xVy8p7ym7m"
   },
   "outputs": [],
   "source": [
    "def is_kcore(vertices, edges, k=3):\n",
    "  filtered_vertices, filtered_edges = maximum_kcore(vertices, edges, k, 1)\n",
    "  return len(filtered_vertices) == len(vertices)"
   ]
  },
  {
   "cell_type": "code",
   "execution_count": 33,
   "metadata": {
    "id": "8VMhyPg0Kw5J"
   },
   "outputs": [],
   "source": [
    "def list_kcore(vertices, edges, component_ids, k=3, g=5):\n",
    "  if len(vertices) < g:\n",
    "    return []\n",
    "\n",
    "  fixed_vertex = list(vertices.index)[0]\n",
    "  indices = list(vertices.index)[1:]\n",
    "  indices = get_connected_component(fixed_vertex, indices, component_ids)\n",
    "  #return [group for group in itertools.combinations(indices, g) if is_kcore(vertices.loc[list(group)], edges, k)]\n",
    "  result = []\n",
    "  for group in itertools.combinations(indices, g-1):\n",
    "    group = list(group)\n",
    "    group.append(fixed_vertex)\n",
    "    if is_kcore(vertices.loc[group], edges, k):\n",
    "      result.append(group)\n",
    "  return result"
   ]
  },
  {
   "cell_type": "code",
   "execution_count": 34,
   "metadata": {
    "id": "7Lcie7R7K2Ks"
   },
   "outputs": [],
   "source": [
    "# max should be reached in 5 iterations we hope\n",
    "def maximum_kcore(published_authors, edges, k=3, rounds=5):\n",
    "  published_edges = edges\n",
    "  for i in range(rounds):\n",
    "    published_edges = [(u,v) for (u,v) in published_edges if int(u) in list(published_authors.index) and int(v) in list(published_authors.index)]\n",
    "    flattened_edges = [int(e[0]) for e in published_edges]\n",
    "    flattened_edges.extend(int(e[1]) for e in published_edges)\n",
    "    degrees = pd.Series(flattened_edges).value_counts()\n",
    "    filtered_vertices = list((degrees[degrees >= k]).index)\n",
    "    published_authors = published_authors.loc[filtered_vertices]\n",
    "  return (published_authors, published_edges)"
   ]
  },
  {
   "cell_type": "code",
   "execution_count": 35,
   "metadata": {
    "id": "wGcnbx8t_f05"
   },
   "outputs": [],
   "source": [
    "def filter_by_skyline(kcores, dataframe, skyline_model = dominates_general):\n",
    "  dataframe = dataframe.drop(columns=['name'])\n",
    "  skyline_kcores = []\n",
    "\n",
    "  for candidate_group in kcores:\n",
    "    dominated = False\n",
    "    for skyline_group in skyline_kcores:\n",
    "      if (skyline_model(skyline_group, candidate_group, dataframe)):\n",
    "        dominated = True\n",
    "        break\n",
    "    skyline_kcores = [group for group in skyline_kcores if not skyline_model(candidate_group, group, dataframe)]\n",
    "    if not dominated:\n",
    "      skyline_kcores.append(candidate_group)\n",
    "    \n",
    "  \n",
    "  return skyline_kcores"
   ]
  },
  {
   "cell_type": "code",
   "execution_count": 36,
   "metadata": {
    "id": "-mcelpNgxj9-"
   },
   "outputs": [],
   "source": [
    "def fast_exhaustive_kcore_listing(dataframe, edges, k=3, g=5):\n",
    "  filtered_vertices = sort_by_l1(dataframe) # sorting data monotonically\n",
    "  filtered_vertices, filtered_edges = maximum_kcore(filtered_vertices, edges, k)\n",
    "  component_ids = get_component_ids(list(filtered_vertices.index), filtered_edges)\n",
    "  all_kcores = []\n",
    "  print(f\"#vertices: {len(filtered_vertices)}\")\n",
    "  while(len(filtered_vertices) >= g):\n",
    "    filtered_vertices, filtered_edges = maximum_kcore(filtered_vertices, filtered_edges, k)\n",
    "    print(len(filtered_vertices))\n",
    "    all_kcores.extend( list_kcore(filtered_vertices, filtered_edges, component_ids, k, g) )\n",
    "    filtered_vertices = filtered_vertices.iloc[1:]\n",
    "  return all_kcores"
   ]
  },
  {
   "cell_type": "markdown",
   "metadata": {
    "id": "NsjDQkISCsFv"
   },
   "source": [
    "# Testing"
   ]
  },
  {
   "cell_type": "code",
   "execution_count": 37,
   "metadata": {
    "id": "K-ZAGFXpCrQb"
   },
   "outputs": [],
   "source": [
    "def get_induced_subgraph(included_vertices, all_vertices, edges):\n",
    "  subgraph_vertices = all_vertices.loc[included_vertices]\n",
    "  subgraph_edges = [e for e in edges if (int(e[0]) in included_vertices and int(e[1]) in included_vertices)]\n",
    "  return subgraph_vertices, subgraph_edges"
   ]
  },
  {
   "cell_type": "markdown",
   "metadata": {},
   "source": [
    "### min_paper_together = 5, k = 4, g = 6"
   ]
  },
  {
   "cell_type": "code",
   "execution_count": 38,
   "metadata": {
    "scrolled": false
   },
   "outputs": [
    {
     "name": "stderr",
     "output_type": "stream",
     "text": [
      "<ipython-input-30-cc85a8284c27>:2: SettingWithCopyWarning: \n",
      "A value is trying to be set on a copy of a slice from a DataFrame.\n",
      "Try using .loc[row_indexer,col_indexer] = value instead\n",
      "\n",
      "See the caveats in the documentation: https://pandas.pydata.org/pandas-docs/stable/user_guide/indexing.html#returning-a-view-versus-a-copy\n",
      "  vertices['sum'] = vertices.sum(axis = 1)\n",
      "<ipython-input-30-cc85a8284c27>:3: SettingWithCopyWarning: \n",
      "A value is trying to be set on a copy of a slice from a DataFrame\n",
      "\n",
      "See the caveats in the documentation: https://pandas.pydata.org/pandas-docs/stable/user_guide/indexing.html#returning-a-view-versus-a-copy\n",
      "  vertices.sort_values(by='sum', ascending = not preferMax, inplace = True)\n",
      "/Users/parisaes/opt/anaconda3/lib/python3.8/site-packages/pandas/core/frame.py:4308: SettingWithCopyWarning: \n",
      "A value is trying to be set on a copy of a slice from a DataFrame\n",
      "\n",
      "See the caveats in the documentation: https://pandas.pydata.org/pandas-docs/stable/user_guide/indexing.html#returning-a-view-versus-a-copy\n",
      "  return super().drop(\n"
     ]
    },
    {
     "name": "stdout",
     "output_type": "stream",
     "text": [
      "#vertices: 96\n",
      "72\n",
      "65\n",
      "64\n"
     ]
    },
    {
     "name": "stderr",
     "output_type": "stream",
     "text": [
      "<ipython-input-34-5881d290b261>:8: DeprecationWarning: The default dtype for empty Series will be 'object' instead of 'float64' in a future version. Specify a dtype explicitly to silence this warning.\n",
      "  degrees = pd.Series(flattened_edges).value_counts()\n",
      "<ipython-input-34-5881d290b261>:8: DeprecationWarning: The default dtype for empty Series will be 'object' instead of 'float64' in a future version. Specify a dtype explicitly to silence this warning.\n",
      "  degrees = pd.Series(flattened_edges).value_counts()\n",
      "<ipython-input-34-5881d290b261>:8: DeprecationWarning: The default dtype for empty Series will be 'object' instead of 'float64' in a future version. Specify a dtype explicitly to silence this warning.\n",
      "  degrees = pd.Series(flattened_edges).value_counts()\n",
      "<ipython-input-34-5881d290b261>:8: DeprecationWarning: The default dtype for empty Series will be 'object' instead of 'float64' in a future version. Specify a dtype explicitly to silence this warning.\n",
      "  degrees = pd.Series(flattened_edges).value_counts()\n",
      "<ipython-input-34-5881d290b261>:8: DeprecationWarning: The default dtype for empty Series will be 'object' instead of 'float64' in a future version. Specify a dtype explicitly to silence this warning.\n",
      "  degrees = pd.Series(flattened_edges).value_counts()\n",
      "<ipython-input-34-5881d290b261>:8: DeprecationWarning: The default dtype for empty Series will be 'object' instead of 'float64' in a future version. Specify a dtype explicitly to silence this warning.\n",
      "  degrees = pd.Series(flattened_edges).value_counts()\n",
      "<ipython-input-34-5881d290b261>:8: DeprecationWarning: The default dtype for empty Series will be 'object' instead of 'float64' in a future version. Specify a dtype explicitly to silence this warning.\n",
      "  degrees = pd.Series(flattened_edges).value_counts()\n",
      "<ipython-input-34-5881d290b261>:8: DeprecationWarning: The default dtype for empty Series will be 'object' instead of 'float64' in a future version. Specify a dtype explicitly to silence this warning.\n",
      "  degrees = pd.Series(flattened_edges).value_counts()\n",
      "<ipython-input-34-5881d290b261>:8: DeprecationWarning: The default dtype for empty Series will be 'object' instead of 'float64' in a future version. Specify a dtype explicitly to silence this warning.\n",
      "  degrees = pd.Series(flattened_edges).value_counts()\n",
      "<ipython-input-34-5881d290b261>:8: DeprecationWarning: The default dtype for empty Series will be 'object' instead of 'float64' in a future version. Specify a dtype explicitly to silence this warning.\n",
      "  degrees = pd.Series(flattened_edges).value_counts()\n"
     ]
    },
    {
     "name": "stdout",
     "output_type": "stream",
     "text": [
      "56\n",
      "55\n",
      "53\n",
      "47\n",
      "46\n",
      "40\n",
      "35\n",
      "30\n",
      "25\n",
      "20\n",
      "15\n",
      "10\n",
      "5\n"
     ]
    }
   ],
   "source": [
    "kcores_k4_g6 = fast_exhaustive_kcore_listing(published_authors, edges, 4, 6)"
   ]
  },
  {
   "cell_type": "code",
   "execution_count": 39,
   "metadata": {},
   "outputs": [
    {
     "name": "stderr",
     "output_type": "stream",
     "text": [
      "<ipython-input-30-cc85a8284c27>:2: SettingWithCopyWarning: \n",
      "A value is trying to be set on a copy of a slice from a DataFrame.\n",
      "Try using .loc[row_indexer,col_indexer] = value instead\n",
      "\n",
      "See the caveats in the documentation: https://pandas.pydata.org/pandas-docs/stable/user_guide/indexing.html#returning-a-view-versus-a-copy\n",
      "  vertices['sum'] = vertices.sum(axis = 1)\n",
      "<ipython-input-30-cc85a8284c27>:3: SettingWithCopyWarning: \n",
      "A value is trying to be set on a copy of a slice from a DataFrame\n",
      "\n",
      "See the caveats in the documentation: https://pandas.pydata.org/pandas-docs/stable/user_guide/indexing.html#returning-a-view-versus-a-copy\n",
      "  vertices.sort_values(by='sum', ascending = not preferMax, inplace = True)\n",
      "/Users/parisaes/opt/anaconda3/lib/python3.8/site-packages/pandas/core/frame.py:4308: SettingWithCopyWarning: \n",
      "A value is trying to be set on a copy of a slice from a DataFrame\n",
      "\n",
      "See the caveats in the documentation: https://pandas.pydata.org/pandas-docs/stable/user_guide/indexing.html#returning-a-view-versus-a-copy\n",
      "  return super().drop(\n"
     ]
    },
    {
     "name": "stdout",
     "output_type": "stream",
     "text": [
      "#vertices: 96\n",
      "72\n",
      "65\n",
      "64\n",
      "56\n",
      "55\n",
      "53\n",
      "47\n",
      "46\n",
      "40\n",
      "35\n",
      "30\n",
      "25\n",
      "20\n",
      "15\n",
      "10\n",
      "5\n"
     ]
    }
   ],
   "source": [
    "kcores_k4_g7 = fast_exhaustive_kcore_listing(published_authors, edges, 4, 7)"
   ]
  },
  {
   "cell_type": "code",
   "execution_count": 40,
   "metadata": {
    "scrolled": true
   },
   "outputs": [
    {
     "data": {
      "text/plain": [
       "9"
      ]
     },
     "execution_count": 40,
     "metadata": {},
     "output_type": "execute_result"
    }
   ],
   "source": [
    "skyline_min = filter_by_skyline(kcores_k4_g6, published_authors, dominates_min)\n",
    "len(skyline_min)"
   ]
  },
  {
   "cell_type": "code",
   "execution_count": 41,
   "metadata": {
    "scrolled": true
   },
   "outputs": [
    {
     "data": {
      "text/plain": [
       "9"
      ]
     },
     "execution_count": 41,
     "metadata": {},
     "output_type": "execute_result"
    }
   ],
   "source": [
    "skyline_sum = filter_by_skyline(kcores_k4_g6, published_authors, dominates_sum)\n",
    "len(skyline_sum)"
   ]
  },
  {
   "cell_type": "code",
   "execution_count": 42,
   "metadata": {
    "colab": {
     "base_uri": "https://localhost:8080/"
    },
    "id": "SGsJCi7VKOtX",
    "outputId": "90c5d818-71b8-4494-d92b-453737676c03"
   },
   "outputs": [
    {
     "data": {
      "text/plain": [
       "12"
      ]
     },
     "execution_count": 42,
     "metadata": {},
     "output_type": "execute_result"
    }
   ],
   "source": [
    "skyline_permute = filter_by_skyline(kcores_k4_g6, published_authors, dominates_permute)\n",
    "len(skyline_permute)"
   ]
  },
  {
   "cell_type": "code",
   "execution_count": 43,
   "metadata": {
    "scrolled": true
   },
   "outputs": [
    {
     "data": {
      "text/plain": [
       "10"
      ]
     },
     "execution_count": 43,
     "metadata": {},
     "output_type": "execute_result"
    }
   ],
   "source": [
    "skyline_general = filter_by_skyline(kcores_k4_g6, published_authors, dominates_general)\n",
    "len(skyline_general)"
   ]
  },
  {
   "cell_type": "code",
   "execution_count": 44,
   "metadata": {},
   "outputs": [],
   "source": [
    "unique_to_min = [x for x in skyline_min if ((not x in skyline_sum) and (not x in skyline_general) and (not x in skyline_permute))]\n",
    "unique_to_sum = [x for x in skyline_sum if ((not x in skyline_min) and (not x in skyline_general) and (not x in skyline_permute))]\n",
    "unique_to_general = [x for x in skyline_general if ((not x in skyline_permute) and (not x in skyline_min) and (not x in skyline_sum))]\n",
    "unique_to_permute = [x for x in skyline_permute if ((not x in skyline_min) and (not x in skyline_sum) and (not x in skyline_general))]"
   ]
  },
  {
   "cell_type": "code",
   "execution_count": 45,
   "metadata": {},
   "outputs": [],
   "source": [
    "somewhat_unique_to_min = [x for x in skyline_min if ((not x in skyline_sum) or (not x in skyline_general) or (not x in skyline_permute))]\n",
    "somewhat_unique_to_sum = [x for x in skyline_sum if ((not x in skyline_min) or (not x in skyline_general) or (not x in skyline_permute))]\n",
    "somewhat_unique_to_general = [x for x in skyline_general if ((not x in skyline_permute) or (not x in skyline_min) or (not x in skyline_sum))]\n",
    "somewhat_unique_to_permute = [x for x in skyline_permute if ((not x in skyline_min) or (not x in skyline_sum) or (not x in skyline_general))]"
   ]
  },
  {
   "cell_type": "code",
   "execution_count": 46,
   "metadata": {
    "scrolled": true
   },
   "outputs": [
    {
     "data": {
      "text/plain": [
       "[]"
      ]
     },
     "execution_count": 46,
     "metadata": {},
     "output_type": "execute_result"
    }
   ],
   "source": [
    "unique_to_min"
   ]
  },
  {
   "cell_type": "code",
   "execution_count": 47,
   "metadata": {},
   "outputs": [
    {
     "data": {
      "text/plain": [
       "[]"
      ]
     },
     "execution_count": 47,
     "metadata": {},
     "output_type": "execute_result"
    }
   ],
   "source": [
    "unique_to_sum"
   ]
  },
  {
   "cell_type": "code",
   "execution_count": 48,
   "metadata": {
    "scrolled": true
   },
   "outputs": [
    {
     "data": {
      "text/plain": [
       "[]"
      ]
     },
     "execution_count": 48,
     "metadata": {},
     "output_type": "execute_result"
    }
   ],
   "source": [
    "unique_to_general"
   ]
  },
  {
   "cell_type": "code",
   "execution_count": 49,
   "metadata": {},
   "outputs": [
    {
     "data": {
      "text/plain": [
       "[]"
      ]
     },
     "execution_count": 49,
     "metadata": {},
     "output_type": "execute_result"
    }
   ],
   "source": [
    "unique_to_permute"
   ]
  },
  {
   "cell_type": "code",
   "execution_count": 50,
   "metadata": {
    "scrolled": true
   },
   "outputs": [
    {
     "data": {
      "text/plain": [
       "[[81305, 352690, 1026426, 672732, 881959, 166138],\n",
       " [20964, 518039, 382290, 1165422, 769651, 773908]]"
      ]
     },
     "execution_count": 50,
     "metadata": {},
     "output_type": "execute_result"
    }
   ],
   "source": [
    "somewhat_unique_to_min"
   ]
  },
  {
   "cell_type": "code",
   "execution_count": 51,
   "metadata": {},
   "outputs": [
    {
     "data": {
      "text/plain": [
       "[[1022181, 657270, 1219852, 1598048, 862451, 679579],\n",
       " [657270, 1219852, 1598048, 1219947, 862451, 679579]]"
      ]
     },
     "execution_count": 51,
     "metadata": {},
     "output_type": "execute_result"
    }
   ],
   "source": [
    "somewhat_unique_to_sum"
   ]
  },
  {
   "cell_type": "code",
   "execution_count": 52,
   "metadata": {},
   "outputs": [
    {
     "data": {
      "text/plain": [
       "[[1022181, 657270, 1219852, 1598048, 862451, 679579],\n",
       " [657270, 1219852, 1598048, 1219947, 862451, 679579],\n",
       " [233195, 130838, 1346058, 797259, 247780, 513870]]"
      ]
     },
     "execution_count": 52,
     "metadata": {},
     "output_type": "execute_result"
    }
   ],
   "source": [
    "somewhat_unique_to_general"
   ]
  },
  {
   "cell_type": "code",
   "execution_count": 53,
   "metadata": {
    "scrolled": false
   },
   "outputs": [
    {
     "data": {
      "text/plain": [
       "[[1022181, 657270, 1219852, 1598048, 862451, 679579],\n",
       " [657270, 1219852, 1598048, 1219947, 862451, 679579],\n",
       " [233195, 130838, 1346058, 797259, 247780, 513870],\n",
       " [81305, 352690, 1026426, 672732, 881959, 166138],\n",
       " [20964, 518039, 382290, 1165422, 769651, 773908]]"
      ]
     },
     "execution_count": 53,
     "metadata": {},
     "output_type": "execute_result"
    }
   ],
   "source": [
    "somewhat_unique_to_permute"
   ]
  },
  {
   "cell_type": "code",
   "execution_count": 54,
   "metadata": {},
   "outputs": [],
   "source": [
    "group_vertices_1, group_edges_1 = get_induced_subgraph(somewhat_unique_to_permute[0], published_authors, edges)\n",
    "group_vertices_2, group_edges_2 = get_induced_subgraph(somewhat_unique_to_permute[1], published_authors, edges)\n",
    "group_vertices_3, group_edges_3 = get_induced_subgraph(somewhat_unique_to_permute[2], published_authors, edges)\n",
    "group_vertices_4, group_edges_4 = get_induced_subgraph(somewhat_unique_to_permute[3], published_authors, edges)\n",
    "group_vertices_5, group_edges_5 = get_induced_subgraph(somewhat_unique_to_permute[4], published_authors, edges)"
   ]
  },
  {
   "cell_type": "code",
   "execution_count": 55,
   "metadata": {
    "scrolled": true
   },
   "outputs": [
    {
     "data": {
      "text/html": [
       "<div>\n",
       "<style scoped>\n",
       "    .dataframe tbody tr th:only-of-type {\n",
       "        vertical-align: middle;\n",
       "    }\n",
       "\n",
       "    .dataframe tbody tr th {\n",
       "        vertical-align: top;\n",
       "    }\n",
       "\n",
       "    .dataframe thead th {\n",
       "        text-align: right;\n",
       "    }\n",
       "</style>\n",
       "<table border=\"1\" class=\"dataframe\">\n",
       "  <thead>\n",
       "    <tr style=\"text-align: right;\">\n",
       "      <th></th>\n",
       "      <th>name</th>\n",
       "      <th>VLDB</th>\n",
       "      <th>SIGMOD</th>\n",
       "      <th>ICML</th>\n",
       "      <th>NIPS</th>\n",
       "    </tr>\n",
       "  </thead>\n",
       "  <tbody>\n",
       "    <tr>\n",
       "      <th>1022181</th>\n",
       "      <td>Peer Kröger</td>\n",
       "      <td>0</td>\n",
       "      <td>5</td>\n",
       "      <td>0</td>\n",
       "      <td>0</td>\n",
       "    </tr>\n",
       "    <tr>\n",
       "      <th>657270</th>\n",
       "      <td>Matthias Renz</td>\n",
       "      <td>2</td>\n",
       "      <td>3</td>\n",
       "      <td>0</td>\n",
       "      <td>0</td>\n",
       "    </tr>\n",
       "    <tr>\n",
       "      <th>1219852</th>\n",
       "      <td>Andreas Züfle</td>\n",
       "      <td>1</td>\n",
       "      <td>1</td>\n",
       "      <td>0</td>\n",
       "      <td>0</td>\n",
       "    </tr>\n",
       "    <tr>\n",
       "      <th>1598048</th>\n",
       "      <td>Tobias Emrich</td>\n",
       "      <td>1</td>\n",
       "      <td>1</td>\n",
       "      <td>0</td>\n",
       "      <td>0</td>\n",
       "    </tr>\n",
       "    <tr>\n",
       "      <th>862451</th>\n",
       "      <td>Nikos Mamoulis</td>\n",
       "      <td>21</td>\n",
       "      <td>11</td>\n",
       "      <td>0</td>\n",
       "      <td>0</td>\n",
       "    </tr>\n",
       "    <tr>\n",
       "      <th>679579</th>\n",
       "      <td>Hans-Peter Kriegel</td>\n",
       "      <td>13</td>\n",
       "      <td>21</td>\n",
       "      <td>2</td>\n",
       "      <td>0</td>\n",
       "    </tr>\n",
       "  </tbody>\n",
       "</table>\n",
       "</div>"
      ],
      "text/plain": [
       "                       name  VLDB  SIGMOD  ICML  NIPS\n",
       "1022181         Peer Kröger     0       5     0     0\n",
       "657270        Matthias Renz     2       3     0     0\n",
       "1219852       Andreas Züfle     1       1     0     0\n",
       "1598048       Tobias Emrich     1       1     0     0\n",
       "862451       Nikos Mamoulis    21      11     0     0\n",
       "679579   Hans-Peter Kriegel    13      21     2     0"
      ]
     },
     "execution_count": 55,
     "metadata": {},
     "output_type": "execute_result"
    }
   ],
   "source": [
    "group_vertices_1"
   ]
  },
  {
   "cell_type": "code",
   "execution_count": 56,
   "metadata": {
    "scrolled": true
   },
   "outputs": [
    {
     "data": {
      "text/html": [
       "<div>\n",
       "<style scoped>\n",
       "    .dataframe tbody tr th:only-of-type {\n",
       "        vertical-align: middle;\n",
       "    }\n",
       "\n",
       "    .dataframe tbody tr th {\n",
       "        vertical-align: top;\n",
       "    }\n",
       "\n",
       "    .dataframe thead th {\n",
       "        text-align: right;\n",
       "    }\n",
       "</style>\n",
       "<table border=\"1\" class=\"dataframe\">\n",
       "  <thead>\n",
       "    <tr style=\"text-align: right;\">\n",
       "      <th></th>\n",
       "      <th>name</th>\n",
       "      <th>VLDB</th>\n",
       "      <th>SIGMOD</th>\n",
       "      <th>ICML</th>\n",
       "      <th>NIPS</th>\n",
       "    </tr>\n",
       "  </thead>\n",
       "  <tbody>\n",
       "    <tr>\n",
       "      <th>657270</th>\n",
       "      <td>Matthias Renz</td>\n",
       "      <td>2</td>\n",
       "      <td>3</td>\n",
       "      <td>0</td>\n",
       "      <td>0</td>\n",
       "    </tr>\n",
       "    <tr>\n",
       "      <th>1219852</th>\n",
       "      <td>Andreas Züfle</td>\n",
       "      <td>1</td>\n",
       "      <td>1</td>\n",
       "      <td>0</td>\n",
       "      <td>0</td>\n",
       "    </tr>\n",
       "    <tr>\n",
       "      <th>1598048</th>\n",
       "      <td>Tobias Emrich</td>\n",
       "      <td>1</td>\n",
       "      <td>1</td>\n",
       "      <td>0</td>\n",
       "      <td>0</td>\n",
       "    </tr>\n",
       "    <tr>\n",
       "      <th>1219947</th>\n",
       "      <td>Thomas Bernecker</td>\n",
       "      <td>1</td>\n",
       "      <td>0</td>\n",
       "      <td>0</td>\n",
       "      <td>0</td>\n",
       "    </tr>\n",
       "    <tr>\n",
       "      <th>862451</th>\n",
       "      <td>Nikos Mamoulis</td>\n",
       "      <td>21</td>\n",
       "      <td>11</td>\n",
       "      <td>0</td>\n",
       "      <td>0</td>\n",
       "    </tr>\n",
       "    <tr>\n",
       "      <th>679579</th>\n",
       "      <td>Hans-Peter Kriegel</td>\n",
       "      <td>13</td>\n",
       "      <td>21</td>\n",
       "      <td>2</td>\n",
       "      <td>0</td>\n",
       "    </tr>\n",
       "  </tbody>\n",
       "</table>\n",
       "</div>"
      ],
      "text/plain": [
       "                       name  VLDB  SIGMOD  ICML  NIPS\n",
       "657270        Matthias Renz     2       3     0     0\n",
       "1219852       Andreas Züfle     1       1     0     0\n",
       "1598048       Tobias Emrich     1       1     0     0\n",
       "1219947    Thomas Bernecker     1       0     0     0\n",
       "862451       Nikos Mamoulis    21      11     0     0\n",
       "679579   Hans-Peter Kriegel    13      21     2     0"
      ]
     },
     "execution_count": 56,
     "metadata": {},
     "output_type": "execute_result"
    }
   ],
   "source": [
    "group_vertices_2"
   ]
  },
  {
   "cell_type": "code",
   "execution_count": 57,
   "metadata": {
    "scrolled": true
   },
   "outputs": [
    {
     "data": {
      "text/html": [
       "<div>\n",
       "<style scoped>\n",
       "    .dataframe tbody tr th:only-of-type {\n",
       "        vertical-align: middle;\n",
       "    }\n",
       "\n",
       "    .dataframe tbody tr th {\n",
       "        vertical-align: top;\n",
       "    }\n",
       "\n",
       "    .dataframe thead th {\n",
       "        text-align: right;\n",
       "    }\n",
       "</style>\n",
       "<table border=\"1\" class=\"dataframe\">\n",
       "  <thead>\n",
       "    <tr style=\"text-align: right;\">\n",
       "      <th></th>\n",
       "      <th>name</th>\n",
       "      <th>VLDB</th>\n",
       "      <th>SIGMOD</th>\n",
       "      <th>ICML</th>\n",
       "      <th>NIPS</th>\n",
       "    </tr>\n",
       "  </thead>\n",
       "  <tbody>\n",
       "    <tr>\n",
       "      <th>233195</th>\n",
       "      <td>Giovanni Grasso</td>\n",
       "      <td>2</td>\n",
       "      <td>0</td>\n",
       "      <td>0</td>\n",
       "      <td>0</td>\n",
       "    </tr>\n",
       "    <tr>\n",
       "      <th>130838</th>\n",
       "      <td>Tim Furche</td>\n",
       "      <td>2</td>\n",
       "      <td>0</td>\n",
       "      <td>0</td>\n",
       "      <td>0</td>\n",
       "    </tr>\n",
       "    <tr>\n",
       "      <th>1346058</th>\n",
       "      <td>Giorgio Orsi</td>\n",
       "      <td>3</td>\n",
       "      <td>1</td>\n",
       "      <td>0</td>\n",
       "      <td>0</td>\n",
       "    </tr>\n",
       "    <tr>\n",
       "      <th>797259</th>\n",
       "      <td>Christian Schallhart</td>\n",
       "      <td>2</td>\n",
       "      <td>0</td>\n",
       "      <td>0</td>\n",
       "      <td>0</td>\n",
       "    </tr>\n",
       "    <tr>\n",
       "      <th>247780</th>\n",
       "      <td>Andrew Sellers</td>\n",
       "      <td>1</td>\n",
       "      <td>0</td>\n",
       "      <td>0</td>\n",
       "      <td>0</td>\n",
       "    </tr>\n",
       "    <tr>\n",
       "      <th>513870</th>\n",
       "      <td>Georg Gottlob</td>\n",
       "      <td>10</td>\n",
       "      <td>24</td>\n",
       "      <td>0</td>\n",
       "      <td>0</td>\n",
       "    </tr>\n",
       "  </tbody>\n",
       "</table>\n",
       "</div>"
      ],
      "text/plain": [
       "                         name  VLDB  SIGMOD  ICML  NIPS\n",
       "233195        Giovanni Grasso     2       0     0     0\n",
       "130838             Tim Furche     2       0     0     0\n",
       "1346058          Giorgio Orsi     3       1     0     0\n",
       "797259   Christian Schallhart     2       0     0     0\n",
       "247780         Andrew Sellers     1       0     0     0\n",
       "513870          Georg Gottlob    10      24     0     0"
      ]
     },
     "execution_count": 57,
     "metadata": {},
     "output_type": "execute_result"
    }
   ],
   "source": [
    "group_vertices_3"
   ]
  },
  {
   "cell_type": "code",
   "execution_count": 58,
   "metadata": {},
   "outputs": [
    {
     "data": {
      "text/html": [
       "<div>\n",
       "<style scoped>\n",
       "    .dataframe tbody tr th:only-of-type {\n",
       "        vertical-align: middle;\n",
       "    }\n",
       "\n",
       "    .dataframe tbody tr th {\n",
       "        vertical-align: top;\n",
       "    }\n",
       "\n",
       "    .dataframe thead th {\n",
       "        text-align: right;\n",
       "    }\n",
       "</style>\n",
       "<table border=\"1\" class=\"dataframe\">\n",
       "  <thead>\n",
       "    <tr style=\"text-align: right;\">\n",
       "      <th></th>\n",
       "      <th>name</th>\n",
       "      <th>VLDB</th>\n",
       "      <th>SIGMOD</th>\n",
       "      <th>ICML</th>\n",
       "      <th>NIPS</th>\n",
       "    </tr>\n",
       "  </thead>\n",
       "  <tbody>\n",
       "    <tr>\n",
       "      <th>81305</th>\n",
       "      <td>Riccardo Rosati</td>\n",
       "      <td>1</td>\n",
       "      <td>5</td>\n",
       "      <td>0</td>\n",
       "      <td>0</td>\n",
       "    </tr>\n",
       "    <tr>\n",
       "      <th>352690</th>\n",
       "      <td>M. Lenzerini</td>\n",
       "      <td>1</td>\n",
       "      <td>2</td>\n",
       "      <td>0</td>\n",
       "      <td>0</td>\n",
       "    </tr>\n",
       "    <tr>\n",
       "      <th>1026426</th>\n",
       "      <td>Giuseppe De Giacomo</td>\n",
       "      <td>3</td>\n",
       "      <td>6</td>\n",
       "      <td>0</td>\n",
       "      <td>0</td>\n",
       "    </tr>\n",
       "    <tr>\n",
       "      <th>672732</th>\n",
       "      <td>Antonella Poggi</td>\n",
       "      <td>1</td>\n",
       "      <td>2</td>\n",
       "      <td>0</td>\n",
       "      <td>0</td>\n",
       "    </tr>\n",
       "    <tr>\n",
       "      <th>881959</th>\n",
       "      <td>Diego Calvanese</td>\n",
       "      <td>2</td>\n",
       "      <td>7</td>\n",
       "      <td>0</td>\n",
       "      <td>0</td>\n",
       "    </tr>\n",
       "    <tr>\n",
       "      <th>166138</th>\n",
       "      <td>Domenico Lembo</td>\n",
       "      <td>1</td>\n",
       "      <td>3</td>\n",
       "      <td>0</td>\n",
       "      <td>0</td>\n",
       "    </tr>\n",
       "  </tbody>\n",
       "</table>\n",
       "</div>"
      ],
      "text/plain": [
       "                        name  VLDB  SIGMOD  ICML  NIPS\n",
       "81305        Riccardo Rosati     1       5     0     0\n",
       "352690          M. Lenzerini     1       2     0     0\n",
       "1026426  Giuseppe De Giacomo     3       6     0     0\n",
       "672732       Antonella Poggi     1       2     0     0\n",
       "881959       Diego Calvanese     2       7     0     0\n",
       "166138        Domenico Lembo     1       3     0     0"
      ]
     },
     "execution_count": 58,
     "metadata": {},
     "output_type": "execute_result"
    }
   ],
   "source": [
    "group_vertices_4"
   ]
  },
  {
   "cell_type": "code",
   "execution_count": 59,
   "metadata": {
    "scrolled": true
   },
   "outputs": [
    {
     "data": {
      "text/html": [
       "<div>\n",
       "<style scoped>\n",
       "    .dataframe tbody tr th:only-of-type {\n",
       "        vertical-align: middle;\n",
       "    }\n",
       "\n",
       "    .dataframe tbody tr th {\n",
       "        vertical-align: top;\n",
       "    }\n",
       "\n",
       "    .dataframe thead th {\n",
       "        text-align: right;\n",
       "    }\n",
       "</style>\n",
       "<table border=\"1\" class=\"dataframe\">\n",
       "  <thead>\n",
       "    <tr style=\"text-align: right;\">\n",
       "      <th></th>\n",
       "      <th>name</th>\n",
       "      <th>VLDB</th>\n",
       "      <th>SIGMOD</th>\n",
       "      <th>ICML</th>\n",
       "      <th>NIPS</th>\n",
       "    </tr>\n",
       "  </thead>\n",
       "  <tbody>\n",
       "    <tr>\n",
       "      <th>20964</th>\n",
       "      <td>Anthony Nguyen</td>\n",
       "      <td>2</td>\n",
       "      <td>0</td>\n",
       "      <td>0</td>\n",
       "      <td>0</td>\n",
       "    </tr>\n",
       "    <tr>\n",
       "      <th>518039</th>\n",
       "      <td>Changkyu Kim</td>\n",
       "      <td>2</td>\n",
       "      <td>3</td>\n",
       "      <td>0</td>\n",
       "      <td>0</td>\n",
       "    </tr>\n",
       "    <tr>\n",
       "      <th>382290</th>\n",
       "      <td>Pradeep Dubey</td>\n",
       "      <td>6</td>\n",
       "      <td>4</td>\n",
       "      <td>0</td>\n",
       "      <td>0</td>\n",
       "    </tr>\n",
       "    <tr>\n",
       "      <th>1165422</th>\n",
       "      <td>Victor W. Lee</td>\n",
       "      <td>2</td>\n",
       "      <td>2</td>\n",
       "      <td>0</td>\n",
       "      <td>0</td>\n",
       "    </tr>\n",
       "    <tr>\n",
       "      <th>769651</th>\n",
       "      <td>Nadathur Satish</td>\n",
       "      <td>3</td>\n",
       "      <td>3</td>\n",
       "      <td>0</td>\n",
       "      <td>0</td>\n",
       "    </tr>\n",
       "    <tr>\n",
       "      <th>773908</th>\n",
       "      <td>Jatin Chhugani</td>\n",
       "      <td>4</td>\n",
       "      <td>3</td>\n",
       "      <td>0</td>\n",
       "      <td>0</td>\n",
       "    </tr>\n",
       "  </tbody>\n",
       "</table>\n",
       "</div>"
      ],
      "text/plain": [
       "                    name  VLDB  SIGMOD  ICML  NIPS\n",
       "20964     Anthony Nguyen     2       0     0     0\n",
       "518039      Changkyu Kim     2       3     0     0\n",
       "382290     Pradeep Dubey     6       4     0     0\n",
       "1165422    Victor W. Lee     2       2     0     0\n",
       "769651   Nadathur Satish     3       3     0     0\n",
       "773908    Jatin Chhugani     4       3     0     0"
      ]
     },
     "execution_count": 59,
     "metadata": {},
     "output_type": "execute_result"
    }
   ],
   "source": [
    "group_vertices_5"
   ]
  },
  {
   "cell_type": "code",
   "execution_count": 60,
   "metadata": {},
   "outputs": [],
   "source": [
    "kcores_all =  kcores_k4_g6 + kcores_k4_g7"
   ]
  },
  {
   "cell_type": "code",
   "execution_count": 61,
   "metadata": {
    "scrolled": true
   },
   "outputs": [
    {
     "data": {
      "text/plain": [
       "10"
      ]
     },
     "execution_count": 61,
     "metadata": {},
     "output_type": "execute_result"
    }
   ],
   "source": [
    "skyline_min_all = filter_by_skyline(kcores_all, published_authors, dominates_min)\n",
    "len(skyline_min_all)"
   ]
  },
  {
   "cell_type": "code",
   "execution_count": 62,
   "metadata": {},
   "outputs": [
    {
     "data": {
      "text/plain": [
       "10"
      ]
     },
     "execution_count": 62,
     "metadata": {},
     "output_type": "execute_result"
    }
   ],
   "source": [
    "skyline_sum_all = filter_by_skyline(kcores_all, published_authors, dominates_sum)\n",
    "len(skyline_sum_all)"
   ]
  },
  {
   "cell_type": "code",
   "execution_count": 63,
   "metadata": {},
   "outputs": [
    {
     "data": {
      "text/plain": [
       "10"
      ]
     },
     "execution_count": 63,
     "metadata": {},
     "output_type": "execute_result"
    }
   ],
   "source": [
    "skyline_general_all = filter_by_skyline(kcores_all, published_authors, dominates_general)\n",
    "len(skyline_general_all)"
   ]
  },
  {
   "cell_type": "code",
   "execution_count": 64,
   "metadata": {},
   "outputs": [],
   "source": [
    "unique_to_min_all = [x for x in skyline_min_all if ((not x in skyline_sum_all) and (not x in skyline_general_all))]\n",
    "unique_to_sum_all = [x for x in skyline_sum_all if ((not x in skyline_min_all) and (not x in skyline_general_all))]\n",
    "unique_to_general_all = [x for x in skyline_general_all if ((not x in skyline_min_all) and (not x in skyline_sum_all))]"
   ]
  },
  {
   "cell_type": "code",
   "execution_count": 65,
   "metadata": {},
   "outputs": [],
   "source": [
    "somewhat_unique_to_min_all = [x for x in skyline_min_all if ((not x in skyline_sum_all) or (not x in skyline_general_all))]\n",
    "somewhat_unique_to_sum_all = [x for x in skyline_sum_all if ((not x in skyline_min_all) or (not x in skyline_general_all))]\n",
    "somewhat_unique_to_general_all = [x for x in skyline_general_all if ((not x in skyline_min_all) or (not x in skyline_sum_all))]"
   ]
  },
  {
   "cell_type": "code",
   "execution_count": 66,
   "metadata": {
    "scrolled": true
   },
   "outputs": [
    {
     "data": {
      "text/plain": [
       "[[81305, 352690, 1026426, 672732, 881959, 166138],\n",
       " [20964, 518039, 382290, 1165422, 769651, 773908]]"
      ]
     },
     "execution_count": 66,
     "metadata": {},
     "output_type": "execute_result"
    }
   ],
   "source": [
    "unique_to_min_all"
   ]
  },
  {
   "cell_type": "code",
   "execution_count": 67,
   "metadata": {},
   "outputs": [
    {
     "data": {
      "text/plain": [
       "[[1022181, 657270, 1219852, 1598048, 862451, 679579],\n",
       " [657270, 1219852, 1598048, 1219947, 862451, 679579]]"
      ]
     },
     "execution_count": 67,
     "metadata": {},
     "output_type": "execute_result"
    }
   ],
   "source": [
    "unique_to_sum_all"
   ]
  },
  {
   "cell_type": "code",
   "execution_count": 68,
   "metadata": {
    "scrolled": true
   },
   "outputs": [
    {
     "data": {
      "text/plain": [
       "[[233195, 130838, 1346058, 797259, 247780, 513870],\n",
       " [1022181, 657270, 1219852, 1598048, 1219947, 862451, 679579]]"
      ]
     },
     "execution_count": 68,
     "metadata": {},
     "output_type": "execute_result"
    }
   ],
   "source": [
    "unique_to_general_all"
   ]
  },
  {
   "cell_type": "code",
   "execution_count": 69,
   "metadata": {},
   "outputs": [],
   "source": [
    "group_vertices_1_prime, group_edges_1_prime = get_induced_subgraph(unique_to_min_all[0], published_authors, edges)\n",
    "group_vertices_2_prime, group_edges_2_prime = get_induced_subgraph(unique_to_min_all[1], published_authors, edges)\n",
    "group_vertices_3_prime, group_edges_3_prime = get_induced_subgraph(unique_to_sum_all[0], published_authors, edges)\n",
    "group_vertices_4_prime, group_edges_4_prime = get_induced_subgraph(unique_to_sum_all[1], published_authors, edges)\n",
    "group_vertices_5_prime, group_edges_5_prime = get_induced_subgraph(unique_to_general_all[0], published_authors, edges)\n",
    "group_vertices_6_prime, group_edges_6_prime = get_induced_subgraph(unique_to_general_all[1], published_authors, edges)"
   ]
  },
  {
   "cell_type": "code",
   "execution_count": 70,
   "metadata": {},
   "outputs": [
    {
     "data": {
      "text/html": [
       "<div>\n",
       "<style scoped>\n",
       "    .dataframe tbody tr th:only-of-type {\n",
       "        vertical-align: middle;\n",
       "    }\n",
       "\n",
       "    .dataframe tbody tr th {\n",
       "        vertical-align: top;\n",
       "    }\n",
       "\n",
       "    .dataframe thead th {\n",
       "        text-align: right;\n",
       "    }\n",
       "</style>\n",
       "<table border=\"1\" class=\"dataframe\">\n",
       "  <thead>\n",
       "    <tr style=\"text-align: right;\">\n",
       "      <th></th>\n",
       "      <th>name</th>\n",
       "      <th>VLDB</th>\n",
       "      <th>SIGMOD</th>\n",
       "      <th>ICML</th>\n",
       "      <th>NIPS</th>\n",
       "    </tr>\n",
       "  </thead>\n",
       "  <tbody>\n",
       "    <tr>\n",
       "      <th>81305</th>\n",
       "      <td>Riccardo Rosati</td>\n",
       "      <td>1</td>\n",
       "      <td>5</td>\n",
       "      <td>0</td>\n",
       "      <td>0</td>\n",
       "    </tr>\n",
       "    <tr>\n",
       "      <th>352690</th>\n",
       "      <td>M. Lenzerini</td>\n",
       "      <td>1</td>\n",
       "      <td>2</td>\n",
       "      <td>0</td>\n",
       "      <td>0</td>\n",
       "    </tr>\n",
       "    <tr>\n",
       "      <th>1026426</th>\n",
       "      <td>Giuseppe De Giacomo</td>\n",
       "      <td>3</td>\n",
       "      <td>6</td>\n",
       "      <td>0</td>\n",
       "      <td>0</td>\n",
       "    </tr>\n",
       "    <tr>\n",
       "      <th>672732</th>\n",
       "      <td>Antonella Poggi</td>\n",
       "      <td>1</td>\n",
       "      <td>2</td>\n",
       "      <td>0</td>\n",
       "      <td>0</td>\n",
       "    </tr>\n",
       "    <tr>\n",
       "      <th>881959</th>\n",
       "      <td>Diego Calvanese</td>\n",
       "      <td>2</td>\n",
       "      <td>7</td>\n",
       "      <td>0</td>\n",
       "      <td>0</td>\n",
       "    </tr>\n",
       "    <tr>\n",
       "      <th>166138</th>\n",
       "      <td>Domenico Lembo</td>\n",
       "      <td>1</td>\n",
       "      <td>3</td>\n",
       "      <td>0</td>\n",
       "      <td>0</td>\n",
       "    </tr>\n",
       "  </tbody>\n",
       "</table>\n",
       "</div>"
      ],
      "text/plain": [
       "                        name  VLDB  SIGMOD  ICML  NIPS\n",
       "81305        Riccardo Rosati     1       5     0     0\n",
       "352690          M. Lenzerini     1       2     0     0\n",
       "1026426  Giuseppe De Giacomo     3       6     0     0\n",
       "672732       Antonella Poggi     1       2     0     0\n",
       "881959       Diego Calvanese     2       7     0     0\n",
       "166138        Domenico Lembo     1       3     0     0"
      ]
     },
     "execution_count": 70,
     "metadata": {},
     "output_type": "execute_result"
    }
   ],
   "source": [
    "group_vertices_1_prime"
   ]
  },
  {
   "cell_type": "code",
   "execution_count": 71,
   "metadata": {
    "scrolled": true
   },
   "outputs": [
    {
     "data": {
      "text/html": [
       "<div>\n",
       "<style scoped>\n",
       "    .dataframe tbody tr th:only-of-type {\n",
       "        vertical-align: middle;\n",
       "    }\n",
       "\n",
       "    .dataframe tbody tr th {\n",
       "        vertical-align: top;\n",
       "    }\n",
       "\n",
       "    .dataframe thead th {\n",
       "        text-align: right;\n",
       "    }\n",
       "</style>\n",
       "<table border=\"1\" class=\"dataframe\">\n",
       "  <thead>\n",
       "    <tr style=\"text-align: right;\">\n",
       "      <th></th>\n",
       "      <th>name</th>\n",
       "      <th>VLDB</th>\n",
       "      <th>SIGMOD</th>\n",
       "      <th>ICML</th>\n",
       "      <th>NIPS</th>\n",
       "    </tr>\n",
       "  </thead>\n",
       "  <tbody>\n",
       "    <tr>\n",
       "      <th>20964</th>\n",
       "      <td>Anthony Nguyen</td>\n",
       "      <td>2</td>\n",
       "      <td>0</td>\n",
       "      <td>0</td>\n",
       "      <td>0</td>\n",
       "    </tr>\n",
       "    <tr>\n",
       "      <th>518039</th>\n",
       "      <td>Changkyu Kim</td>\n",
       "      <td>2</td>\n",
       "      <td>3</td>\n",
       "      <td>0</td>\n",
       "      <td>0</td>\n",
       "    </tr>\n",
       "    <tr>\n",
       "      <th>382290</th>\n",
       "      <td>Pradeep Dubey</td>\n",
       "      <td>6</td>\n",
       "      <td>4</td>\n",
       "      <td>0</td>\n",
       "      <td>0</td>\n",
       "    </tr>\n",
       "    <tr>\n",
       "      <th>1165422</th>\n",
       "      <td>Victor W. Lee</td>\n",
       "      <td>2</td>\n",
       "      <td>2</td>\n",
       "      <td>0</td>\n",
       "      <td>0</td>\n",
       "    </tr>\n",
       "    <tr>\n",
       "      <th>769651</th>\n",
       "      <td>Nadathur Satish</td>\n",
       "      <td>3</td>\n",
       "      <td>3</td>\n",
       "      <td>0</td>\n",
       "      <td>0</td>\n",
       "    </tr>\n",
       "    <tr>\n",
       "      <th>773908</th>\n",
       "      <td>Jatin Chhugani</td>\n",
       "      <td>4</td>\n",
       "      <td>3</td>\n",
       "      <td>0</td>\n",
       "      <td>0</td>\n",
       "    </tr>\n",
       "  </tbody>\n",
       "</table>\n",
       "</div>"
      ],
      "text/plain": [
       "                    name  VLDB  SIGMOD  ICML  NIPS\n",
       "20964     Anthony Nguyen     2       0     0     0\n",
       "518039      Changkyu Kim     2       3     0     0\n",
       "382290     Pradeep Dubey     6       4     0     0\n",
       "1165422    Victor W. Lee     2       2     0     0\n",
       "769651   Nadathur Satish     3       3     0     0\n",
       "773908    Jatin Chhugani     4       3     0     0"
      ]
     },
     "execution_count": 71,
     "metadata": {},
     "output_type": "execute_result"
    }
   ],
   "source": [
    "group_vertices_2_prime"
   ]
  },
  {
   "cell_type": "code",
   "execution_count": 72,
   "metadata": {
    "scrolled": true
   },
   "outputs": [
    {
     "data": {
      "text/html": [
       "<div>\n",
       "<style scoped>\n",
       "    .dataframe tbody tr th:only-of-type {\n",
       "        vertical-align: middle;\n",
       "    }\n",
       "\n",
       "    .dataframe tbody tr th {\n",
       "        vertical-align: top;\n",
       "    }\n",
       "\n",
       "    .dataframe thead th {\n",
       "        text-align: right;\n",
       "    }\n",
       "</style>\n",
       "<table border=\"1\" class=\"dataframe\">\n",
       "  <thead>\n",
       "    <tr style=\"text-align: right;\">\n",
       "      <th></th>\n",
       "      <th>name</th>\n",
       "      <th>VLDB</th>\n",
       "      <th>SIGMOD</th>\n",
       "      <th>ICML</th>\n",
       "      <th>NIPS</th>\n",
       "    </tr>\n",
       "  </thead>\n",
       "  <tbody>\n",
       "    <tr>\n",
       "      <th>1022181</th>\n",
       "      <td>Peer Kröger</td>\n",
       "      <td>0</td>\n",
       "      <td>5</td>\n",
       "      <td>0</td>\n",
       "      <td>0</td>\n",
       "    </tr>\n",
       "    <tr>\n",
       "      <th>657270</th>\n",
       "      <td>Matthias Renz</td>\n",
       "      <td>2</td>\n",
       "      <td>3</td>\n",
       "      <td>0</td>\n",
       "      <td>0</td>\n",
       "    </tr>\n",
       "    <tr>\n",
       "      <th>1219852</th>\n",
       "      <td>Andreas Züfle</td>\n",
       "      <td>1</td>\n",
       "      <td>1</td>\n",
       "      <td>0</td>\n",
       "      <td>0</td>\n",
       "    </tr>\n",
       "    <tr>\n",
       "      <th>1598048</th>\n",
       "      <td>Tobias Emrich</td>\n",
       "      <td>1</td>\n",
       "      <td>1</td>\n",
       "      <td>0</td>\n",
       "      <td>0</td>\n",
       "    </tr>\n",
       "    <tr>\n",
       "      <th>862451</th>\n",
       "      <td>Nikos Mamoulis</td>\n",
       "      <td>21</td>\n",
       "      <td>11</td>\n",
       "      <td>0</td>\n",
       "      <td>0</td>\n",
       "    </tr>\n",
       "    <tr>\n",
       "      <th>679579</th>\n",
       "      <td>Hans-Peter Kriegel</td>\n",
       "      <td>13</td>\n",
       "      <td>21</td>\n",
       "      <td>2</td>\n",
       "      <td>0</td>\n",
       "    </tr>\n",
       "  </tbody>\n",
       "</table>\n",
       "</div>"
      ],
      "text/plain": [
       "                       name  VLDB  SIGMOD  ICML  NIPS\n",
       "1022181         Peer Kröger     0       5     0     0\n",
       "657270        Matthias Renz     2       3     0     0\n",
       "1219852       Andreas Züfle     1       1     0     0\n",
       "1598048       Tobias Emrich     1       1     0     0\n",
       "862451       Nikos Mamoulis    21      11     0     0\n",
       "679579   Hans-Peter Kriegel    13      21     2     0"
      ]
     },
     "execution_count": 72,
     "metadata": {},
     "output_type": "execute_result"
    }
   ],
   "source": [
    "group_vertices_3_prime"
   ]
  },
  {
   "cell_type": "code",
   "execution_count": 73,
   "metadata": {},
   "outputs": [
    {
     "data": {
      "text/html": [
       "<div>\n",
       "<style scoped>\n",
       "    .dataframe tbody tr th:only-of-type {\n",
       "        vertical-align: middle;\n",
       "    }\n",
       "\n",
       "    .dataframe tbody tr th {\n",
       "        vertical-align: top;\n",
       "    }\n",
       "\n",
       "    .dataframe thead th {\n",
       "        text-align: right;\n",
       "    }\n",
       "</style>\n",
       "<table border=\"1\" class=\"dataframe\">\n",
       "  <thead>\n",
       "    <tr style=\"text-align: right;\">\n",
       "      <th></th>\n",
       "      <th>name</th>\n",
       "      <th>VLDB</th>\n",
       "      <th>SIGMOD</th>\n",
       "      <th>ICML</th>\n",
       "      <th>NIPS</th>\n",
       "    </tr>\n",
       "  </thead>\n",
       "  <tbody>\n",
       "    <tr>\n",
       "      <th>657270</th>\n",
       "      <td>Matthias Renz</td>\n",
       "      <td>2</td>\n",
       "      <td>3</td>\n",
       "      <td>0</td>\n",
       "      <td>0</td>\n",
       "    </tr>\n",
       "    <tr>\n",
       "      <th>1219852</th>\n",
       "      <td>Andreas Züfle</td>\n",
       "      <td>1</td>\n",
       "      <td>1</td>\n",
       "      <td>0</td>\n",
       "      <td>0</td>\n",
       "    </tr>\n",
       "    <tr>\n",
       "      <th>1598048</th>\n",
       "      <td>Tobias Emrich</td>\n",
       "      <td>1</td>\n",
       "      <td>1</td>\n",
       "      <td>0</td>\n",
       "      <td>0</td>\n",
       "    </tr>\n",
       "    <tr>\n",
       "      <th>1219947</th>\n",
       "      <td>Thomas Bernecker</td>\n",
       "      <td>1</td>\n",
       "      <td>0</td>\n",
       "      <td>0</td>\n",
       "      <td>0</td>\n",
       "    </tr>\n",
       "    <tr>\n",
       "      <th>862451</th>\n",
       "      <td>Nikos Mamoulis</td>\n",
       "      <td>21</td>\n",
       "      <td>11</td>\n",
       "      <td>0</td>\n",
       "      <td>0</td>\n",
       "    </tr>\n",
       "    <tr>\n",
       "      <th>679579</th>\n",
       "      <td>Hans-Peter Kriegel</td>\n",
       "      <td>13</td>\n",
       "      <td>21</td>\n",
       "      <td>2</td>\n",
       "      <td>0</td>\n",
       "    </tr>\n",
       "  </tbody>\n",
       "</table>\n",
       "</div>"
      ],
      "text/plain": [
       "                       name  VLDB  SIGMOD  ICML  NIPS\n",
       "657270        Matthias Renz     2       3     0     0\n",
       "1219852       Andreas Züfle     1       1     0     0\n",
       "1598048       Tobias Emrich     1       1     0     0\n",
       "1219947    Thomas Bernecker     1       0     0     0\n",
       "862451       Nikos Mamoulis    21      11     0     0\n",
       "679579   Hans-Peter Kriegel    13      21     2     0"
      ]
     },
     "execution_count": 73,
     "metadata": {},
     "output_type": "execute_result"
    }
   ],
   "source": [
    "group_vertices_4_prime"
   ]
  },
  {
   "cell_type": "code",
   "execution_count": 74,
   "metadata": {
    "scrolled": true
   },
   "outputs": [
    {
     "data": {
      "text/html": [
       "<div>\n",
       "<style scoped>\n",
       "    .dataframe tbody tr th:only-of-type {\n",
       "        vertical-align: middle;\n",
       "    }\n",
       "\n",
       "    .dataframe tbody tr th {\n",
       "        vertical-align: top;\n",
       "    }\n",
       "\n",
       "    .dataframe thead th {\n",
       "        text-align: right;\n",
       "    }\n",
       "</style>\n",
       "<table border=\"1\" class=\"dataframe\">\n",
       "  <thead>\n",
       "    <tr style=\"text-align: right;\">\n",
       "      <th></th>\n",
       "      <th>name</th>\n",
       "      <th>VLDB</th>\n",
       "      <th>SIGMOD</th>\n",
       "      <th>ICML</th>\n",
       "      <th>NIPS</th>\n",
       "    </tr>\n",
       "  </thead>\n",
       "  <tbody>\n",
       "    <tr>\n",
       "      <th>233195</th>\n",
       "      <td>Giovanni Grasso</td>\n",
       "      <td>2</td>\n",
       "      <td>0</td>\n",
       "      <td>0</td>\n",
       "      <td>0</td>\n",
       "    </tr>\n",
       "    <tr>\n",
       "      <th>130838</th>\n",
       "      <td>Tim Furche</td>\n",
       "      <td>2</td>\n",
       "      <td>0</td>\n",
       "      <td>0</td>\n",
       "      <td>0</td>\n",
       "    </tr>\n",
       "    <tr>\n",
       "      <th>1346058</th>\n",
       "      <td>Giorgio Orsi</td>\n",
       "      <td>3</td>\n",
       "      <td>1</td>\n",
       "      <td>0</td>\n",
       "      <td>0</td>\n",
       "    </tr>\n",
       "    <tr>\n",
       "      <th>797259</th>\n",
       "      <td>Christian Schallhart</td>\n",
       "      <td>2</td>\n",
       "      <td>0</td>\n",
       "      <td>0</td>\n",
       "      <td>0</td>\n",
       "    </tr>\n",
       "    <tr>\n",
       "      <th>247780</th>\n",
       "      <td>Andrew Sellers</td>\n",
       "      <td>1</td>\n",
       "      <td>0</td>\n",
       "      <td>0</td>\n",
       "      <td>0</td>\n",
       "    </tr>\n",
       "    <tr>\n",
       "      <th>513870</th>\n",
       "      <td>Georg Gottlob</td>\n",
       "      <td>10</td>\n",
       "      <td>24</td>\n",
       "      <td>0</td>\n",
       "      <td>0</td>\n",
       "    </tr>\n",
       "  </tbody>\n",
       "</table>\n",
       "</div>"
      ],
      "text/plain": [
       "                         name  VLDB  SIGMOD  ICML  NIPS\n",
       "233195        Giovanni Grasso     2       0     0     0\n",
       "130838             Tim Furche     2       0     0     0\n",
       "1346058          Giorgio Orsi     3       1     0     0\n",
       "797259   Christian Schallhart     2       0     0     0\n",
       "247780         Andrew Sellers     1       0     0     0\n",
       "513870          Georg Gottlob    10      24     0     0"
      ]
     },
     "execution_count": 74,
     "metadata": {},
     "output_type": "execute_result"
    }
   ],
   "source": [
    "group_vertices_5_prime"
   ]
  },
  {
   "cell_type": "code",
   "execution_count": 75,
   "metadata": {},
   "outputs": [
    {
     "data": {
      "text/html": [
       "<div>\n",
       "<style scoped>\n",
       "    .dataframe tbody tr th:only-of-type {\n",
       "        vertical-align: middle;\n",
       "    }\n",
       "\n",
       "    .dataframe tbody tr th {\n",
       "        vertical-align: top;\n",
       "    }\n",
       "\n",
       "    .dataframe thead th {\n",
       "        text-align: right;\n",
       "    }\n",
       "</style>\n",
       "<table border=\"1\" class=\"dataframe\">\n",
       "  <thead>\n",
       "    <tr style=\"text-align: right;\">\n",
       "      <th></th>\n",
       "      <th>name</th>\n",
       "      <th>VLDB</th>\n",
       "      <th>SIGMOD</th>\n",
       "      <th>ICML</th>\n",
       "      <th>NIPS</th>\n",
       "    </tr>\n",
       "  </thead>\n",
       "  <tbody>\n",
       "    <tr>\n",
       "      <th>1022181</th>\n",
       "      <td>Peer Kröger</td>\n",
       "      <td>0</td>\n",
       "      <td>5</td>\n",
       "      <td>0</td>\n",
       "      <td>0</td>\n",
       "    </tr>\n",
       "    <tr>\n",
       "      <th>657270</th>\n",
       "      <td>Matthias Renz</td>\n",
       "      <td>2</td>\n",
       "      <td>3</td>\n",
       "      <td>0</td>\n",
       "      <td>0</td>\n",
       "    </tr>\n",
       "    <tr>\n",
       "      <th>1219852</th>\n",
       "      <td>Andreas Züfle</td>\n",
       "      <td>1</td>\n",
       "      <td>1</td>\n",
       "      <td>0</td>\n",
       "      <td>0</td>\n",
       "    </tr>\n",
       "    <tr>\n",
       "      <th>1598048</th>\n",
       "      <td>Tobias Emrich</td>\n",
       "      <td>1</td>\n",
       "      <td>1</td>\n",
       "      <td>0</td>\n",
       "      <td>0</td>\n",
       "    </tr>\n",
       "    <tr>\n",
       "      <th>1219947</th>\n",
       "      <td>Thomas Bernecker</td>\n",
       "      <td>1</td>\n",
       "      <td>0</td>\n",
       "      <td>0</td>\n",
       "      <td>0</td>\n",
       "    </tr>\n",
       "    <tr>\n",
       "      <th>862451</th>\n",
       "      <td>Nikos Mamoulis</td>\n",
       "      <td>21</td>\n",
       "      <td>11</td>\n",
       "      <td>0</td>\n",
       "      <td>0</td>\n",
       "    </tr>\n",
       "    <tr>\n",
       "      <th>679579</th>\n",
       "      <td>Hans-Peter Kriegel</td>\n",
       "      <td>13</td>\n",
       "      <td>21</td>\n",
       "      <td>2</td>\n",
       "      <td>0</td>\n",
       "    </tr>\n",
       "  </tbody>\n",
       "</table>\n",
       "</div>"
      ],
      "text/plain": [
       "                       name  VLDB  SIGMOD  ICML  NIPS\n",
       "1022181         Peer Kröger     0       5     0     0\n",
       "657270        Matthias Renz     2       3     0     0\n",
       "1219852       Andreas Züfle     1       1     0     0\n",
       "1598048       Tobias Emrich     1       1     0     0\n",
       "1219947    Thomas Bernecker     1       0     0     0\n",
       "862451       Nikos Mamoulis    21      11     0     0\n",
       "679579   Hans-Peter Kriegel    13      21     2     0"
      ]
     },
     "execution_count": 75,
     "metadata": {},
     "output_type": "execute_result"
    }
   ],
   "source": [
    "group_vertices_6_prime"
   ]
  },
  {
   "cell_type": "code",
   "execution_count": 76,
   "metadata": {
    "scrolled": true
   },
   "outputs": [
    {
     "data": {
      "text/plain": [
       "[[81305, 352690, 1026426, 672732, 881959, 166138],\n",
       " [20964, 518039, 382290, 1165422, 769651, 773908]]"
      ]
     },
     "execution_count": 76,
     "metadata": {},
     "output_type": "execute_result"
    }
   ],
   "source": [
    "somewhat_unique_to_min_all"
   ]
  },
  {
   "cell_type": "code",
   "execution_count": 77,
   "metadata": {
    "scrolled": true
   },
   "outputs": [
    {
     "data": {
      "text/plain": [
       "[[1022181, 657270, 1219852, 1598048, 862451, 679579],\n",
       " [657270, 1219852, 1598048, 1219947, 862451, 679579]]"
      ]
     },
     "execution_count": 77,
     "metadata": {},
     "output_type": "execute_result"
    }
   ],
   "source": [
    "somewhat_unique_to_sum_all"
   ]
  },
  {
   "cell_type": "code",
   "execution_count": 78,
   "metadata": {},
   "outputs": [
    {
     "data": {
      "text/plain": [
       "[[233195, 130838, 1346058, 797259, 247780, 513870],\n",
       " [1022181, 657270, 1219852, 1598048, 1219947, 862451, 679579]]"
      ]
     },
     "execution_count": 78,
     "metadata": {},
     "output_type": "execute_result"
    }
   ],
   "source": [
    "somewhat_unique_to_general_all"
   ]
  },
  {
   "cell_type": "code",
   "execution_count": 79,
   "metadata": {},
   "outputs": [],
   "source": [
    "import itertools\n",
    "def find_missing_edges(vertices, edges):\n",
    "    missing_edges = [(x,y) for x,y in list(itertools.combinations(vertices, 2)) if (str(x),str(y)) not in edges and (str(y),str(x)) not in edges]\n",
    "    return missing_edges"
   ]
  },
  {
   "cell_type": "code",
   "execution_count": 80,
   "metadata": {
    "scrolled": true
   },
   "outputs": [
    {
     "data": {
      "text/plain": [
       "[(1022181, 862451)]"
      ]
     },
     "execution_count": 80,
     "metadata": {},
     "output_type": "execute_result"
    }
   ],
   "source": [
    "find_missing_edges(list(group_vertices_1.index), group_edges_1)"
   ]
  },
  {
   "cell_type": "code",
   "execution_count": 81,
   "metadata": {},
   "outputs": [
    {
     "data": {
      "text/plain": [
       "[]"
      ]
     },
     "execution_count": 81,
     "metadata": {},
     "output_type": "execute_result"
    }
   ],
   "source": [
    "find_missing_edges(list(group_vertices_2.index), group_edges_2)"
   ]
  },
  {
   "cell_type": "code",
   "execution_count": 82,
   "metadata": {},
   "outputs": [
    {
     "data": {
      "text/plain": [
       "[(1346058, 247780)]"
      ]
     },
     "execution_count": 82,
     "metadata": {},
     "output_type": "execute_result"
    }
   ],
   "source": [
    "find_missing_edges(list(group_vertices_3.index), group_edges_3)"
   ]
  },
  {
   "cell_type": "code",
   "execution_count": 83,
   "metadata": {},
   "outputs": [
    {
     "data": {
      "text/plain": [
       "[(672732, 881959)]"
      ]
     },
     "execution_count": 83,
     "metadata": {},
     "output_type": "execute_result"
    }
   ],
   "source": [
    "find_missing_edges(list(group_vertices_4.index), group_edges_4)"
   ]
  },
  {
   "cell_type": "code",
   "execution_count": 84,
   "metadata": {},
   "outputs": [
    {
     "data": {
      "text/plain": [
       "[(1165422, 769651)]"
      ]
     },
     "execution_count": 84,
     "metadata": {},
     "output_type": "execute_result"
    }
   ],
   "source": [
    "find_missing_edges(list(group_vertices_5.index), group_edges_5)"
   ]
  },
  {
   "cell_type": "code",
   "execution_count": 85,
   "metadata": {},
   "outputs": [
    {
     "data": {
      "text/plain": [
       "25"
      ]
     },
     "execution_count": 85,
     "metadata": {},
     "output_type": "execute_result"
    }
   ],
   "source": [
    "unique_researchers = pd.concat([group_vertices_1, group_vertices_2, group_vertices_3, group_vertices_4, group_vertices_5]).drop_duplicates()\n",
    "len(unique_researchers)"
   ]
  }
 ],
 "metadata": {
  "colab": {
   "provenance": []
  },
  "kernelspec": {
   "display_name": "Python 3",
   "language": "python",
   "name": "python3"
  },
  "language_info": {
   "codemirror_mode": {
    "name": "ipython",
    "version": 3
   },
   "file_extension": ".py",
   "mimetype": "text/x-python",
   "name": "python",
   "nbconvert_exporter": "python",
   "pygments_lexer": "ipython3",
   "version": "3.8.8"
  }
 },
 "nbformat": 4,
 "nbformat_minor": 1
}
